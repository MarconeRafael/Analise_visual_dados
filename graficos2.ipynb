import pandas as pd
import matplotlib.pyplot as plt
import matplotlib.cm as cm
#Gráfico 1
# Carregar os dados do arquivo CSV
data = pd.read_csv("2015.csv")

# Extrair as colunas necessárias para o scatter plot
gdp_per_capita = data["Economy (GDP per Capita)"]
perceptions_of_corruption = 300*data["Trust (Government Corruption)"]# alterando tamanho dos pontos ao multipricar por 300
healthy_life_expectancy = data["Health (Life Expectancy)"]
Freedom = data["Freedom"]

# Definir o tamanho do gráfico
plt.figure(figsize=(12, 10))

# Criar o scatter plot com mapa de cores personalizado
plt.scatter(gdp_per_capita, healthy_life_expectancy, c=Freedom, cmap=cm.RdYlGn, s=perceptions_of_corruption)

# Adicionar rótulos aos eixos
plt.xlabel("PIB per capita")
plt.ylabel("Expectativa de vida saudável")

# Adicionar uma barra de cores para codificar a Generosity
colorbar = plt.colorbar()
colorbar.set_label("Liberdade para fazer escolhas de vida")

# Ajustar a legenda para o tamanho dos pontos (Perceptions of corruption)
plt.legend(title="Percepções de corrupção")

# Exibir o gráfico
plt.show()


#Gráfico 2
import pandas as pd
import matplotlib.pyplot as plt
import matplotlib.cm as cm

# Carregar os dados do arquivo CSV
data = pd.read_csv("2021.csv")

# Extrair as colunas necessárias para o scatter plot
gdp_per_capita = data["Explained by: Log GDP per capita"]
perceptions_of_corruption = 300*data["Explained by: Perceptions of corruption"]# alterando tamanho dos pontos ao multipricar por 300
healthy_life_expectancy = data["Explained by: Healthy life expectancy"]
Freedom = data["Explained by: Freedom to make life choices"]

# Definir o tamanho do gráfico
plt.figure(figsize=(12, 10))

# Criar o scatter plot com mapa de cores personalizado
plt.scatter(gdp_per_capita, healthy_life_expectancy, c=Freedom, cmap=cm.RdYlGn, s=perceptions_of_corruption)

# Adicionar rótulos aos eixos
plt.xlabel("PIB per capita")
plt.ylabel("Expectativa de vida saudável")

# Adicionar uma barra de cores para codificar a Generosity
colorbar = plt.colorbar()
colorbar.set_label("Liberdade para fazer escolhas de vida")

# Ajustar a legenda para o tamanho dos pontos (Perceptions of corruption)
plt.legend(title="Percepções de corrupção")

# Exibir o gráfico
plt.show()

