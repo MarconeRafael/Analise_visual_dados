%matplotlib inline
import seaborn as sns
import pandas as pd
import numpy as np
import random as rd
import matplotlib.pyplot as plt
import plotly.express as px
import plotly
import plotly.graph_objects as go
from plotly.subplots import make_subplots
import plotly.graph_objects as go

#criando dados ficticios
dmes = np.array([])
dformacao = np.array([])
dfaixamcc = np.array([])
dfaixa = np.array([])
dqt = np.array([])
#redução de escolaridade a faixas

for mes in range (1,13):
  for formacao in range(1,9):
    for faixamcc in range (1,5):
      for faixa in range (1,5):
        match mes:
          case 1:
            dmes = np.append(dmes,'Jan')
          case 2:
            dmes = np.append(dmes,'Fev')
          case 3:
            dmes = np.append(dmes,'Mar')
          case 4:
            dmes = np.append(dmes,'Abr')
          case 5:
            dmes = np.append(dmes,'Mai')
          case 6:
            dmes = np.append(dmes,'Jun')
          case 7:
            dmes = np.append(dmes,'Jul')
          case 8:
            dmes = np.append(dmes,'Ago')
          case 9:
            dmes = np.append(dmes,'Set')
          case 10:
            dmes = np.append(dmes,'Out')
          case 11:
            dmes = np.append(dmes,'Nov')
          case 12:
            dmes = np.append(dmes,'Dez')

        match formacao:
          case 1:
            dformacao = np.append(dformacao,'Ciências agrárias')
          case 2:
            dformacao = np.append(dformacao,'Ciências biológicas')
          case 3:
            dformacao = np.append(dformacao,'Ciências exatas e da terra')
          case 4:
            dformacao = np.append(dformacao,'Ciências humanas, letras e artes')
          case 5:
            dformacao = np.append(dformacao,'Ciências da saúde')
          case 6:
            dformacao = np.append(dformacao,'Ciências sociais aplicadas')
          case 7:
            dformacao = np.append(dformacao,'Engenharias')
          case 8:
            dformacao = np.append(dformacao,'Outras aréas')

        match faixamcc:
          case 1:
            dfaixamcc = np.append(dfaixamcc, 'Primeira vez')
          case 2:
            dfaixamcc = np.append(dfaixamcc, 'De 2 e 5 vezes')
          case 3:
            dfaixamcc = np.append(dfaixamcc, 'De 6 e 10 vezes')
          case 4:
            dfaixamcc = np.append(dfaixamcc, 'Mais de 10 vezes')

          
        match faixa:
          case 1:
            dfaixa = np.append(dfaixa, 'Esta é a primeira vez')
          case 2:
            dfaixa = np.append(dfaixa, 'Entre 2 e 5 vezes')
          case 3:
            dfaixa = np.append(dfaixa, 'Entre 6 e 10 vezes')
          case 4:
            dfaixa = np.append(dfaixa, 'Mais de 10 vezes')

        valor = rd.randint(0,50)
        dqt = np.append(dqt, valor)



#usando os dados criados para criar um dataframe
defs = pd.DataFrame({'mes': dmes,
                'Formação': dformacao,
                 'Faixa': dfaixamcc,
                 'faixa': dfaixa,
                   'Quantidade de visitantes': dqt
                  })

#retirar todos os valores zeros
defs.replace(0, np.nan, inplace=True)
defs

#Criando primeiro modelo de gráfico

figura = px.histogram(defs, x = 'mes', y = 'Quantidade de visitantes', color = 'Formação', barmode = 'group', facet_row = 'Faixa')

#comportando a figura nas margens
figura.update_yaxes(automargin=True)
figura.update_layout(
    paper_bgcolor="#bcc8e7"
)
#título do gráfico
figura.update_layout(
    title_text="Visitas ao museu câmara cascudo"
)
#apagando termos desnecessários nos eixos

for axis in figura.layout:
    if type(figura.layout[axis]) == go.layout.YAxis:
        figura.layout[axis].title.text = ''
    if type(figura.layout[axis]) == go.layout.XAxis:
        figura.layout[axis].title.text = ''
figura.update_yaxes(matches=None, showticklabels=True, visible=True)
#tornando a legenda da escolaridade horizontal
for annotation in figura['layout']['annotations']: 
    annotation['textangle']= 60
#realocando legenda
figura.update_layout(legend=dict(
    orientation="h",
    yanchor="bottom",
    y=1.02,
    xanchor="right",
    x=1.5
))
figura.show()


#Criando segundo modelo de gráfico 
figura = px.histogram(defs, x = 'mes', y = 'Quantidade de visitantes', color = 'Formação', barmode = 'group', facet_row = 'faixa')

#comportando a figura nas margens
figura.update_yaxes(automargin=True)
figura.update_layout(
    paper_bgcolor="#bcc8e7"
)
#título do gráfico
figura.update_layout(
    title_text="Visitas a outros museus"
)
#apagando termos desnecessários nos eixos

for axis in figura.layout:
    if type(figura.layout[axis]) == go.layout.YAxis:
        figura.layout[axis].title.text = ''
    if type(figura.layout[axis]) == go.layout.XAxis:
        figura.layout[axis].title.text = ''
figura.update_yaxes(matches=None, showticklabels=True, visible=True)
#tornando a legenda da escolaridade horizontal
for annotation in figura['layout']['annotations']: 
    annotation['textangle']= 60
#realocando legenda
figura.update_layout(legend=dict(
    orientation="h",
    yanchor="bottom",
    y=1.02,
    xanchor="right",
    x=1.5
))
figura.show()
